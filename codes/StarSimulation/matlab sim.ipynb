{
 "cells": [
  {
   "cell_type": "markdown",
   "metadata": {},
   "source": [
    "    # MATLABシミュレーション\n",
    "\n",
    "\n",
    "    ## １．質量一定\n",
    "\n",
    "    - チリの質量一定\n",
    "    - ランダム配置，ランダム初速度\n",
    "    - 重力の影響を受けて移動\n",
    "\n",
    "    使用関数\n",
    "\n",
    "    - 初期配置\n",
    "    - "
   ]
  },
  {
   "cell_type": "code",
   "execution_count": 1,
   "metadata": {
    "scrolled": true
   },
   "outputs": [
    {
     "name": "stdout",
     "output_type": "stream",
     "text": [
      "\n"
     ]
    },
    {
     "data": {
      "image/png": "[encoded data removed]",
      "text/plain": [
       "<IPython.core.display.Image object>"
      ]
     },
     "metadata": {},
     "output_type": "display_data"
    }
   ],
   "source": [
    "figure"
   ]
  },
  {
   "cell_type": "code",
   "execution_count": 7,
   "metadata": {
    "scrolled": true
   },
   "outputs": [
    {
     "name": "stdout",
     "output_type": "stream",
     "text": [
      "\n",
      "after =\n",
      "\n",
      "   -1.8720\n",
      "   -3.0121\n",
      "    2.5870\n",
      "    1.6548\n",
      "   16.9710\n",
      "   10.1490\n",
      "   -5.9061\n",
      "    0.4563\n",
      "   -5.0780\n",
      "    1.5550\n",
      "   -2.3650\n",
      "   -0.3010\n",
      "   -1.1908\n",
      "   -3.0409\n",
      "    1.4417\n",
      "   -6.8905\n",
      "  -10.3714\n",
      "   16.0440\n",
      "   -6.9560\n",
      "   -6.0135\n",
      "    6.0846\n",
      "   -3.8270\n",
      "   -1.7597\n",
      "    0.5554\n",
      "   -3.3972\n",
      "   -3.5996\n",
      "    2.3996\n",
      "    0.6628\n",
      "   -2.5229\n",
      "   -5.2503\n",
      "    9.8288\n",
      "   15.0562\n",
      "    1.8607\n",
      "   11.7777\n",
      "  -23.3654\n",
      "  -24.7179\n",
      "   25.7671\n",
      "  -50.2249\n",
      "   12.7421\n",
      "   -5.3855\n",
      "   -6.2536\n",
      "    1.8434\n",
      "  -11.2839\n",
      "   -9.6091\n",
      "    0.2501\n",
      "  -23.2507\n",
      "   -9.5858\n",
      "   13.4260\n",
      "   -5.7159\n",
      "   -0.8163\n",
      "    0.6203\n",
      "   -1.7986\n",
      "   -3.1014\n",
      "    2.4231\n",
      "    2.9481\n",
      "    4.0918\n",
      "  -16.2571\n",
      "   -5.5891\n",
      "   -8.0775\n",
      "    4.6301\n",
      "    1.2496\n",
      "   -1.7695\n",
      "   -7.9831\n",
      "   -5.6987\n",
      "   -0.3553\n",
      "    2.9965\n",
      "   -5.1279\n",
      "   60.1407\n",
      "   39.7497\n",
      "    2.2688\n",
      "   -2.0320\n",
      "   -5.9721\n",
      "    5.0059\n",
      "    1.6189\n",
      "   -1.8865\n",
      "  -26.8811\n",
      "  -11.2309\n",
      "  -40.4126\n",
      "  -12.7945\n",
      "  -65.0189\n",
      "  -37.8137\n",
      "  -13.8582\n",
      "   -1.6393\n",
      "   37.5063\n",
      "   26.6436\n",
      "  -11.7570\n",
      "    0.8287\n",
      "  -57.4537\n",
      "   73.2659\n",
      "  -69.3398\n",
      "    2.9658\n",
      "   -2.3216\n",
      "   -2.8594\n",
      "   -1.7038\n",
      "   -3.0891\n",
      "    8.2354\n",
      "   -2.0001\n",
      "   -9.9671\n",
      "   41.2357\n",
      "\n",
      "\n"
     ]
    }
   ],
   "source": [
    "after = csvread(\"300step.csv\")"
   ]
  },
  {
   "cell_type": "code",
   "execution_count": 8,
   "metadata": {},
   "outputs": [
    {
     "name": "stdout",
     "output_type": "stream",
     "text": [
      "\n",
      "ans =\n",
      "\n",
      "    99\n",
      "\n",
      "\n"
     ]
    }
   ],
   "source": [
    "length(after)"
   ]
  },
  {
   "cell_type": "code",
   "execution_count": null,
   "metadata": {},
   "outputs": [],
   "source": []
  }
 ],
 "metadata": {
  "kernelspec": {
   "display_name": "Matlab",
   "language": "matlab",
   "name": "matlab"
  },
  "language_info": {
   "codemirror_mode": "octave",
   "file_extension": ".m",
   "help_links": [
    {
     "text": "MetaKernel Magics",
     "url": "https://github.com/calysto/metakernel/blob/master/metakernel/magics/README.md"
    }
   ],
   "mimetype": "text/x-octave",
   "name": "matlab",
   "version": "0.15.0"
  }
 },
 "nbformat": 4,
 "nbformat_minor": 2
}
