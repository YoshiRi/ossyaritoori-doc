{
 "cells": [
  {
   "cell_type": "code",
   "execution_count": 1,
   "metadata": {},
   "outputs": [
    {
     "data": {
      "text/html": [
       "<style>\n",
       "#notebook-container {\n",
       "    width: 90%;\n",
       "    background-color: #EEE\n",
       "}\n",
       "\n",
       ".code_cell {\n",
       "   flex-direction: row !important;\n",
       "}\n",
       "\n",
       ".code_cell .output_wrapper {\n",
       "    width: 50%;\n",
       "    background-color: #FFF\n",
       "}\n",
       "\n",
       ".code_cell .input {\n",
       "    width: 50%;\n",
       "    background-color: #FFF\n",
       "}\n",
       "</style>"
      ],
      "text/plain": [
       "<IPython.core.display.HTML object>"
      ]
     },
     "metadata": {},
     "output_type": "display_data"
    }
   ],
   "source": [
    "%%html\n",
    "<style>\n",
    "#notebook-container {\n",
    "    width: 90%;\n",
    "    background-color: #EEE\n",
    "}\n",
    "\n",
    ".code_cell {\n",
    "   flex-direction: row !important;\n",
    "}\n",
    "\n",
    ".code_cell .output_wrapper {\n",
    "    width: 50%;\n",
    "    background-color: #FFF\n",
    "}\n",
    "\n",
    ".code_cell .input {\n",
    "    width: 50%;\n",
    "    background-color: #FFF\n",
    "}\n",
    "</style>"
   ]
  },
  {
   "cell_type": "markdown",
   "metadata": {},
   "source": [
    "# 回転の最適化（２D）\n"
   ]
  },
  {
   "cell_type": "code",
   "execution_count": 2,
   "metadata": {},
   "outputs": [
    {
     "name": "stdout",
     "output_type": "stream",
     "text": [
      "\n",
      "R =\n",
      "\n",
      "    0.8776   -0.4794\n",
      "    0.4794    0.8776\n",
      "\n",
      "\n"
     ]
    }
   ],
   "source": [
    "%% SO2\n",
    "theta = 0.5;\n",
    "G=[0 -1;1 0];\n",
    "R =expm(theta*G)"
   ]
  },
  {
   "cell_type": "code",
   "execution_count": 3,
   "metadata": {},
   "outputs": [
    {
     "name": "stdout",
     "output_type": "stream",
     "text": [
      "\n",
      "y =\n",
      "\n",
      "    2.7938   -3.2573    5.0890   -0.1791    3.7911\n",
      "   11.8854    8.6238    3.8856    6.1494   13.0724\n",
      "\n",
      "\n"
     ]
    }
   ],
   "source": [
    "%% get random x pose\n",
    "datanum = 5;\n",
    "%data\n",
    "x=10*rand(2,datanum);\n",
    "%noise\n",
    "w=0.01*randn(2,datanum);\n",
    "\n",
    "% obserbation\n",
    "y=R*x+w"
   ]
  },
  {
   "cell_type": "code",
   "execution_count": 4,
   "metadata": {},
   "outputs": [
    {
     "name": "stdout",
     "output_type": "stream",
     "text": [
      "\n"
     ]
    },
    {
     "data": {
      "image/png": "[encoded data removed]",
      "text/plain": [
       "<IPython.core.display.Image object>"
      ]
     },
     "metadata": {},
     "output_type": "display_data"
    }
   ],
   "source": [
    "figure\n",
    "plot(x(1,:),x(2,:),'ro',y(1,:),y(2,:),'bx')\n",
    "grid on"
   ]
  },
  {
   "cell_type": "markdown",
   "metadata": {},
   "source": [
    "## 1. Kanataの手法\n",
    "\n",
    "$$\n",
    "\\arg \\max_R tr(R\\Sigma xy^\\top)\\\\\n",
    "= tr(V^\\top R U W) \\leq tr(W)\n",
    "$$\n",
    "\n",
    "https://home.hiroshima-u.ac.jp/tamaki/study/20090924SIS200923.pdf"
   ]
  },
  {
   "cell_type": "code",
   "execution_count": 5,
   "metadata": {},
   "outputs": [
    {
     "name": "stdout",
     "output_type": "stream",
     "text": [
      "\n",
      "U =\n",
      "\n",
      "    0.6318    0.7751\n",
      "    0.7751   -0.6318\n",
      "\n",
      "\n",
      "W =\n",
      "\n",
      "  452.4295         0\n",
      "         0   45.0692\n",
      "\n",
      "\n",
      "V =\n",
      "\n",
      "    0.1828    0.9831\n",
      "    0.9831   -0.1828\n",
      "\n",
      "\n"
     ]
    }
   ],
   "source": [
    "[U,W,V]=svd(x*y')"
   ]
  },
  {
   "cell_type": "markdown",
   "metadata": {},
   "source": [
    "- det of R should be 1 but when $|VU^\\top|=-1$ estimated R includes mirror "
   ]
  },
  {
   "cell_type": "code",
   "execution_count": 6,
   "metadata": {},
   "outputs": [
    {
     "name": "stdout",
     "output_type": "stream",
     "text": [
      "\n",
      "ans =\n",
      "\n",
      "    1.0000\n",
      "\n",
      "\n",
      "Rk1_ =\n",
      "\n",
      "    0.8776   -0.4795\n",
      "    0.4795    0.8776\n",
      "\n",
      "\n",
      "ans =\n",
      "\n",
      "    1.0000\n",
      "\n",
      "\n"
     ]
    }
   ],
   "source": [
    "det(V*U)\n",
    "Rk1_ = V*diag([1,det(V*U)])*U'\n",
    "det(Rk1_)"
   ]
  },
  {
   "cell_type": "code",
   "execution_count": 7,
   "metadata": {},
   "outputs": [
    {
     "name": "stdout",
     "output_type": "stream",
     "text": [
      "\n",
      "Rk1 =\n",
      "\n",
      "    0.8776   -0.4795\n",
      "    0.4795    0.8776\n",
      "\n",
      "\n",
      "theta_hat1 =\n",
      "\n",
      "    0.5000\n",
      "\n",
      "\n"
     ]
    }
   ],
   "source": [
    "[Ur,Wr,Vr]=svd(Rk1_);\n",
    "Rk1=Ur*diag([1,det(Ur*Vr)])*Vr'\n",
    "theta_hat1 = atan(Rk1(2)/Rk1(1))"
   ]
  },
  {
   "cell_type": "markdown",
   "metadata": {},
   "source": [
    "## 2. Linear method"
   ]
  },
  {
   "cell_type": "code",
   "execution_count": 8,
   "metadata": {},
   "outputs": [
    {
     "name": "stdout",
     "output_type": "stream",
     "text": [
      "\n",
      "Rk2_ =\n",
      "\n",
      "    0.8779   -0.4794\n",
      "    0.4805    0.8785\n",
      "\n",
      "\n"
     ]
    }
   ],
   "source": [
    "Coef = [x' zeros(size(x'));zeros(size(x')) x'];\n",
    "Ys = [y(1,:) y(2,:)]';\n",
    "\n",
    "Rcoef=Coef\\Ys;\n",
    "\n",
    "Rk2_ = reshape(Rcoef,2,2)'"
   ]
  },
  {
   "cell_type": "code",
   "execution_count": 9,
   "metadata": {},
   "outputs": [
    {
     "name": "stdout",
     "output_type": "stream",
     "text": [
      "\n",
      "Rk2 =\n",
      "\n",
      "    0.8775   -0.4796\n",
      "    0.4796    0.8775\n",
      "\n",
      "\n",
      "theta_hat2 =\n",
      "\n",
      "    0.5002\n",
      "\n",
      "\n"
     ]
    }
   ],
   "source": [
    "[Ur,Wr,Vr]=svd(Rk2_);\n",
    "Rk2=Ur*diag([1,det(Ur*Vr)])*Vr'\n",
    "theta_hat2 = atan(Rk2(2)/Rk2(1))"
   ]
  },
  {
   "cell_type": "markdown",
   "metadata": {},
   "source": [
    "## 3. Lie method"
   ]
  },
  {
   "cell_type": "code",
   "execution_count": 10,
   "metadata": {},
   "outputs": [
    {
     "name": "stdout",
     "output_type": "stream",
     "text": [
      "\n",
      "theta_hat3 =\n",
      "\n",
      "    0.4999\n",
      "\n",
      "\n",
      "Rk3 =\n",
      "\n",
      "    0.8776   -0.4794\n",
      "    0.4794    0.8776\n",
      "\n",
      "\n"
     ]
    }
   ],
   "source": [
    "% init estimation\n",
    "iteration = 10;\n",
    "alpha = zeros(iteration,1);\n",
    "% init value\n",
    "alpha(1) = 0;\n",
    "\n",
    "for i = 2:iteration\n",
    "% jacobian\n",
    "Rliehat = expm(alpha(i-1)*G);\n",
    "J = zeros(2,1);\n",
    "r = zeros(2,1);\n",
    "for j = 1:datanum\n",
    "J = J+G*Rliehat*x(:,j);\n",
    "r = r+Rliehat*x(:,j)-y(:,j);\n",
    "end\n",
    "da = -(J'*J)\\J'*r;\n",
    "alpha(i) = alpha(i-1)+da;\n",
    "end\n",
    "\n",
    "theta_hat3 = alpha(end)\n",
    "Rk3 = expm(theta_hat3*G)"
   ]
  },
  {
   "cell_type": "code",
   "execution_count": 11,
   "metadata": {},
   "outputs": [
    {
     "name": "stdout",
     "output_type": "stream",
     "text": [
      "\n"
     ]
    },
    {
     "data": {
      "image/png": "[encoded data removed]",
      "text/plain": [
       "<IPython.core.display.Image object>"
      ]
     },
     "metadata": {},
     "output_type": "display_data"
    }
   ],
   "source": [
    "plot(alpha)\n",
    "grid on\n",
    "title('Optimization for theta with Lie expression')"
   ]
  },
  {
   "cell_type": "code",
   "execution_count": null,
   "metadata": {},
   "outputs": [],
   "source": []
  },
  {
   "cell_type": "code",
   "execution_count": null,
   "metadata": {},
   "outputs": [],
   "source": []
  },
  {
   "cell_type": "markdown",
   "metadata": {},
   "source": [
    "# 回転の最適化 3D"
   ]
  },
  {
   "cell_type": "code",
   "execution_count": 12,
   "metadata": {},
   "outputs": [
    {
     "name": "stdout",
     "output_type": "stream",
     "text": [
      "\n",
      "R3d =\n",
      "\n",
      "    0.9358   -0.2832    0.2102\n",
      "    0.3029    0.9506   -0.0680\n",
      "   -0.1805    0.1273    0.9753\n",
      "\n",
      "\n",
      "y3d =\n",
      "\n",
      "    7.8342    8.4244    7.2186   -0.3391    2.6710\n",
      "    1.7515    8.7487    5.5369    7.2082    1.2226\n",
      "    7.1355    6.5672    5.5537    0.8988    0.5172\n",
      "\n",
      "\n"
     ]
    }
   ],
   "source": [
    "%% 3d version\n",
    "theta_rpy = [0.1 0.2 0.3];\n",
    "G1 = [0 0 0;0 0 -1;0 1 0];\n",
    "G2 = [0 0 1;0 0 0; -1 0 0];\n",
    "G3 = [0 -1 0;1 0 0; 0 0 0];\n",
    "\n",
    "R3d = expm(theta_rpy(1)*G1+theta_rpy(2)*G2+theta_rpy(3)*G3)\n",
    "\n",
    "%% obs\n",
    "\n",
    "%data\n",
    "x3d=10*rand(3,datanum);\n",
    "%noise\n",
    "w3d=0.01*randn(3,datanum);\n",
    "\n",
    "% obserbation\n",
    "y3d=R3d*x3d+w3d"
   ]
  },
  {
   "cell_type": "markdown",
   "metadata": {},
   "source": [
    "## 1. Kanata's method\n",
    "\n",
    "$$\n",
    "||y_a-Rx_a||^2\\\\\n",
    "= (y_a-Rx_a)^\\top(y_a-Rx_a)\\\\\n",
    "= y_a^\\top y_a+x_a^\\top x_a-2y_a^\\top Rx_a\n",
    "$$\n",
    "\n",
    "より，\n",
    "\n",
    "$$\n",
    "\\arg \\min_{R} \\Sigma_{a} y_a^\\top Rx_a\\\\\n",
    "=tr(\\Sigma_{a} Rx_a y_a^\\top )\\\\\n",
    "=tr(R \\Sigma_{a} x_a y_a^\\top)\n",
    "$$\n",
    "\n",
    "を目指す。\n",
    "\n",
    "ここで，SVDを用いて，$UWV^\\top=\\Sigma_{a} x_a y_a^\\top$とするならば，基底変換によりtraceは不変であることを踏まえて\n",
    "\n",
    "$$\n",
    "tr(RUWV^\\top)=tr(V^\\top RUW)\\leq tr(W)\n",
    "$$\n",
    "\n",
    "したがって，最小値は$V^\\top RU=I$の時になる。\n",
    "その時の回転は$R=VU^\\top$。"
   ]
  },
  {
   "cell_type": "code",
   "execution_count": 13,
   "metadata": {},
   "outputs": [
    {
     "name": "stdout",
     "output_type": "stream",
     "text": [
      "\n",
      "ans =\n",
      "\n",
      "    1.0000\n",
      "\n",
      "\n",
      "Rk1_ =\n",
      "\n",
      "    0.9355   -0.2833    0.2112\n",
      "    0.3033    0.9504   -0.0687\n",
      "   -0.1812    0.1283    0.9750\n",
      "\n",
      "\n"
     ]
    }
   ],
   "source": [
    "[U,W,V]=svd(x3d*y3d');\n",
    "det(V*U)\n",
    "Rk1_ = V*diag([1,1,det(V*U)])*U'"
   ]
  },
  {
   "cell_type": "code",
   "execution_count": 14,
   "metadata": {},
   "outputs": [
    {
     "name": "stdout",
     "output_type": "stream",
     "text": [
      "\n",
      "Rk1 =\n",
      "\n",
      "    0.9355   -0.2833    0.2112\n",
      "    0.3033    0.9504   -0.0687\n",
      "   -0.1812    0.1283    0.9750\n",
      "\n",
      "\n",
      "e1 =\n",
      "\n",
      "   3.2468e-06\n",
      "\n",
      "\n"
     ]
    }
   ],
   "source": [
    "[Ur,Wr,Vr]=svd(Rk1_);\n",
    "Rk1=Ur*diag([1,1,det(Ur*Vr)])*Vr'\n",
    "\n",
    "e1 = trace((R3d-Rk1)*(R3d-Rk1)')"
   ]
  },
  {
   "cell_type": "markdown",
   "metadata": {},
   "source": [
    "## 2. Linear method"
   ]
  },
  {
   "cell_type": "code",
   "execution_count": 15,
   "metadata": {},
   "outputs": [
    {
     "name": "stdout",
     "output_type": "stream",
     "text": [
      "\n",
      "Rk2_ =\n",
      "\n",
      "    0.9377   -0.2848    0.2102\n",
      "    0.3046    0.9491   -0.0694\n",
      "   -0.1750    0.1258    0.9701\n",
      "\n",
      "\n"
     ]
    }
   ],
   "source": [
    "z3d = zeros(size(x3d'));\n",
    "Coef3d = [x3d' z3d z3d ;z3d x3d' z3d; z3d z3d x3d'];\n",
    "Ys3d = [y3d(1,:) y3d(2,:) y3d(3,:)]';\n",
    "\n",
    "Rcoef3d=Coef3d\\Ys3d;\n",
    "\n",
    "Rk2_ = reshape(Rcoef3d,3,3)'"
   ]
  },
  {
   "cell_type": "code",
   "execution_count": 16,
   "metadata": {},
   "outputs": [
    {
     "name": "stdout",
     "output_type": "stream",
     "text": [
      "\n",
      "Rk2 =\n",
      "\n",
      "    0.9358   -0.2847    0.2078\n",
      "    0.3044    0.9501   -0.0689\n",
      "   -0.1778    0.1278    0.9757\n",
      "\n",
      "\n",
      "e2 =\n",
      "\n",
      "   1.9351e-05\n",
      "\n",
      "\n"
     ]
    }
   ],
   "source": [
    "[Ur,Wr,Vr]=svd(Rk2_);\n",
    "Rk2=Ur*diag([1,1,det(Ur*Vr)])*Vr'\n",
    "\n",
    "e2 = trace((R3d-Rk2)*(R3d-Rk2)')"
   ]
  },
  {
   "cell_type": "markdown",
   "metadata": {},
   "source": [
    "## 3. LieMethod\n",
    "\n",
    "以下の\n",
    "$$\n",
    "y = Rx\n",
    "$$\n",
    "\n",
    "$$\n",
    "J = \\sum^N_{a=1} ||y_a-Rx_a||^2\n",
    "$$\n",
    "\n",
    "$$\n",
    "J=\\sum^N_{a=1} \\left( ||y_a||^2 + ||x_a||^2 -2 \\langle Rx_a,y_a \\rangle \\right)  \\ (\\because |Rx| = |x|)\n",
    "$$\n",
    "\n",
    "ここで３次元回転行列の集合は以下の３パラメータを含むベクトル$\\omega$を用いて表現できる。\n",
    "このベクトルの外積が対応する微小回転行列の交換子積（リー括弧積）に対応するのでリー代数系となるわけである。\n",
    "\n",
    "$$\n",
    "\\omega = [\\omega_1,\\omega_2,\\omega_3]^\\top\\\\\n",
    "G_1 = \\pmatrix{0&0&0\\\\0&0&-1\\\\0&1&0}, \n",
    "G_2 = \\pmatrix{0&0&1\\\\0&0&0\\\\-1&0&0}, \n",
    "G_3 = \\pmatrix{0&-1&0\\\\0&1&0\\\\0&0&0}\\\\\n",
    "R(\\omega)=\\exp(\\omega_1 G_1+\\omega_2 G_2+\\omega_3 G_3)\\\\\n",
    "A(\\omega)=\\omega_1 G_1+\\omega_2 G_2+\\omega_3 G_3\n",
    "$$\n",
    "\n",
    "余談だが，ここで計算される歪対称行列$[\\omega]_\\times = \\omega_1 G_1+\\omega_2 G_2+\\omega_3 G_3$に単位行列を加えた$I+[\\omega]_\\times$は角速度$\\omega$での微小回転を表す行列である。\n",
    "\n",
    "$J$を$\\omega$の関数と見立てた時にパラメータの微小変化$\\Delta \\omega$に対する勾配$g$を求める。\n",
    "すなわち，\n",
    "\n",
    "$$\n",
    "J(\\omega+\\Delta \\omega) = J(\\omega) + \\langle g,\\Delta \\omega \\rangle\n",
    "$$\n",
    "\n",
    "変数がスカラなら迷わずパラメータで関数を微分するところだが，\n",
    "\n",
    "$$\n",
    "\\dfrac{\\partial J}{\\partial \\omega} = -2\\dfrac{\\partial}{\\partial \\omega}  \\sum^N_{a=1} \\langle Rx_a,y_a \\rangle\n",
    "$$\n",
    "\n",
    "\n",
    "\n",
    "$$\n",
    "R(\\omega+\\Delta \\omega)=\\exp(\\omega_1 G_1+\\omega_2 G_2+\\omega_3 G_3 + \\Delta \\omega_1 G_1+ \\Delta \\omega_2 G_2+ \\Delta \\omega_3 G_3)\\\\\n",
    "= R(\\omega) + A(\\Delta \\omega) R(\\omega) \\ (\\because G_1 \\bot G_2 \\bot G_3)\n",
    "$$\n",
    "\n",
    "\n",
    "\n",
    "$$\n",
    "J(\\omega+\\Delta \\omega) = \\sum^N_{a=1} \\left( ||y_a||^2 + ||x_a||^2 -2 \\langle (R+A(\\Delta \\omega)R )x_a,y_a \\rangle \\right)\n",
    "$$\n",
    "\n"
   ]
  },
  {
   "cell_type": "markdown",
   "metadata": {},
   "source": [
    "\n",
    "$$\n",
    "\\begin{align}\n",
    "\\Delta J = \\langle g,\\Delta \\omega \\rangle &= -2 \\sum^N_{a=1}\\langle A(\\Delta \\omega)R x_a,y_a \\rangle\\\\\n",
    "&= -2 tr( A(\\Delta \\omega)R \\sum^N_{a=1}x_ay_a^\\top) & (\\because \\langle x,y \\rangle= tr(xy^\\top))\\\\\n",
    "&= -2 tr\\left(\\pmatrix{0&-\\Delta \\omega_3&\\Delta \\omega_2\\\\\\Delta \\omega_3&0&-\\Delta \\omega_1\\\\ -\\Delta \\omega_2&\\Delta \\omega_1&0} R \\sum^N_{a=1}x_ay_a^\\top \\right)  \\\\\n",
    "&= \\langle -2 [tr(G_1RN),tr(G_2RN),tr(G_3RN)]^\\top,\\Delta \\omega \\rangle & (N=\\sum^N_{a=1}x_ay_a^\\top)\n",
    "\\end{align}\n",
    "$$\n",
    "\n",
    "$$\n",
    "\\begin{align}\n",
    "g=-2 [tr(G_1RN),tr(G_2RN),tr(G_3RN)]^\\top \\  &\\ & (N=\\sum^N_{a=1}x_ay_a^\\top)\n",
    "\\end{align}\n",
    "$$"
   ]
  },
  {
   "cell_type": "markdown",
   "metadata": {},
   "source": [
    "$$\n",
    "\\begin{align}\n",
    "g(R+A(\\Delta \\omega)R)=g(R) + H \\Delta \\omega\n",
    "\\end{align}\n",
    "$$\n",
    "\n",
    "$$\n",
    "\\begin{align}\n",
    "g(R+A(\\Delta \\omega)R)&=g(R) -2 [tr(G_1A(\\Delta \\omega)RN),tr(G_2A(\\Delta \\omega)RN),tr(G_3A(\\Delta \\omega)RN)]^\\top\\\\\n",
    "\\Delta g &= -2 [tr(\\Delta \\omega_1 I_1 RN),tr(\\Delta \\omega_2 I_2 RN),tr(\\Delta \\omega_3 I_3 RN)]^\\top &I_1=\\pmatrix{0&0&0\\\\0&1&0\\\\0&0&1},I_2=\\pmatrix{1&0&0\\\\0&0&0\\\\0&0&1},I_3=\\pmatrix{1&0&0\\\\0&1&0\\\\0&0&0}\n",
    "\\end{align}\n",
    "$$\n",
    "\n",
    "$$\n",
    "H=2\\pmatrix{tr(I_1 RN)&0&0\\\\0&tr(I_2 RN)&0\\\\0&0&tr(I_3 RN)}\n",
    "$$\n",
    "\n",
    "$$\n",
    "J(R) = J(R_0)+\\langle g,\\Delta \\omega \\rangle+\\dfrac{1}{2}\\langle \\Delta \\omega,H\\Delta \\omega \\rangle\n",
    "$$\n",
    "\n",
    "$$\n",
    "\\dfrac{\\partial J}{\\partial \\Delta \\omega}=g+H\\Delta \\omega = 0\n",
    "$$\n",
    "\n",
    "\n",
    "$$\n",
    "\\Delta \\omega = -H^{-1}g\n",
    "$$\n"
   ]
  },
  {
   "cell_type": "code",
   "execution_count": 17,
   "metadata": {
    "scrolled": true
   },
   "outputs": [
    {
     "name": "stderr",
     "output_type": "stream",
     "text": [
      "\u001b[1;31m関数または変数 'Rk3hat' が未定義です。\n",
      "\n",
      "\u001b[0m"
     ]
    }
   ],
   "source": [
    "%% Newton Lapson\n",
    "% define\n",
    "I1 = diag([0,1,1]);\n",
    "I2 = diag([1,0,1]);\n",
    "I3 = diag([1,1,0]);\n",
    "\n",
    "\n",
    "% init estimation\n",
    "iteration = 50;\n",
    "lambdalm=0.1;\n",
    "alpha3d = zeros(iteration,3);\n",
    "da_array=zeros(iteration,1);\n",
    "% init value\n",
    "alpha3d(1,:) = [0.1 0.1 0.1];\n",
    "\n",
    "%% Newton\n",
    "for i = 2:iteration\n",
    "% jacobian\n",
    "Rliehat3d = expm(alpha3d(i-1,1)*G1+alpha3d(i-1,2)*G2+alpha3d(i-1,3)*G3);\n",
    "J = zeros(3,3);\n",
    "%N = zeros(3,3); \n",
    "%for j = 1:datanum\n",
    "%N = N+x3d(:,j)*y3d(:,j).';\n",
    "%end\n",
    "N =x3d*y3d.';\n",
    "g = -2*[trace(G1*Rliehat3d*N),trace(G2*Rliehat3d*N),trace(G3*Rliehat3d*N)].';\n",
    "H = 2*diag([trace(I1*Rliehat3d*N),trace(I2*Rliehat3d*N),trace(I3*Rliehat3d*N)]);\n",
    "\n",
    "da = -H\\g;\n",
    "da_array(i) = norm(da);\n",
    "alpha3d(i,:) = alpha3d(i-1,:)+da';\n",
    "end\n",
    "\n",
    "theta_liehat3d = alpha3d(end,:)\n",
    "\n",
    "Rk3 = expm(alpha3d(end,1)*G1+alpha3d(end,2)*G2+alpha3d(end,3)*G3)\n",
    "e3 = trace((R3d-Rk3hat)*(R3d-Rk3hat)')\n",
    "figure(1)\n",
    "plot(alpha3d)\n"
   ]
  },
  {
   "cell_type": "code",
   "execution_count": 18,
   "metadata": {},
   "outputs": [
    {
     "name": "stderr",
     "output_type": "stream",
     "text": [
      "\u001b[1;31m関数または変数 'e3' が未定義です。\n",
      "\n",
      "\u001b[0m"
     ]
    },
    {
     "data": {
      "image/png": "[encoded data removed]",
      "text/plain": [
       "<IPython.core.display.Image object>"
      ]
     },
     "metadata": {},
     "output_type": "display_data"
    },
    {
     "data": {
      "image/png": "[encoded data removed]",
      "text/plain": [
       "<IPython.core.display.Image object>"
      ]
     },
     "metadata": {},
     "output_type": "display_data"
    }
   ],
   "source": [
    "figure(2)\n",
    "plot(da_array)\n",
    "\n",
    "e3array = zeros(iteration,1);\n",
    "for i = 1:iteration\n",
    "Rk3hat = expm(alpha3d(i,1)*G1+alpha3d(i,2)*G2+alpha3d(i,3)*G3);\n",
    "e3array(i)= trace((R3d-Rk3hat)*(R3d-Rk3hat)');\n",
    "end\n",
    "\n",
    "figure(3)\n",
    "xaxis = 1:iteration;\n",
    "plot(xaxis,e3array,'b-',[1 iteration],[e1 e1],'r-.',[1 iteration],[e2 e2],'g--')\n",
    "ylim([0,max([e1 e2 e3])])\n",
    "legend('Lie: Newton','Kanata(SVD)','Linear')\n",
    "grid on\n",
    "\n",
    "figure(4)\n",
    "xaxis = 1:iteration;\n",
    "plot(xaxis,e3array)"
   ]
  },
  {
   "cell_type": "code",
   "execution_count": 19,
   "metadata": {},
   "outputs": [
    {
     "name": "stdout",
     "output_type": "stream",
     "text": [
      "\n",
      "theta_liehat3d =\n",
      "\n",
      "    0.1009    0.2009    0.3003\n",
      "\n",
      "\n",
      "Rk31 =\n",
      "\n",
      "    0.9355   -0.2833    0.2112\n",
      "    0.3033    0.9504   -0.0687\n",
      "   -0.1812    0.1283    0.9750\n",
      "\n",
      "\n",
      "e31 =\n",
      "\n",
      "   3.2102e-06\n",
      "\n",
      "\n"
     ]
    },
    {
     "data": {
      "image/png": "[encoded data removed]",
      "text/plain": [
       "<IPython.core.display.Image object>"
      ]
     },
     "metadata": {},
     "output_type": "display_data"
    }
   ],
   "source": [
    "iteration = 50;\n",
    "lambdalm=0;\n",
    "alpha3d = zeros(iteration,3);\n",
    "% init value\n",
    "alpha3d(1,:) = [0.1 0.1 0.1];\n",
    "\n",
    "for i = 2:iteration\n",
    "% jacobian\n",
    "Rliehat3d = expm(alpha3d(i-1,1)*G1+alpha3d(i-1,2)*G2+alpha3d(i-1,3)*G3);\n",
    "J = [];\n",
    "r = [];\n",
    "for j = 1:datanum\n",
    "GR=[G1*Rliehat3d*x3d(:,j) G2*Rliehat3d*x3d(:,j) G3*Rliehat3d*x3d(:,j)]';\n",
    "J = [J; GR];\n",
    "r = [r; -Rliehat3d*x3d(:,j)+y3d(:,j)];\n",
    "end\n",
    "da = -(J'*J+eye(3)*lambdalm)\\J'*r;\n",
    "alpha3d(i,:) = alpha3d(i-1,:)+da';\n",
    "end\n",
    "\n",
    "theta_liehat3d = alpha3d(end,:)\n",
    "Rk31 = expm(alpha3d(end,1)*G1+alpha3d(end,2)*G2+alpha3d(end,3)*G3)\n",
    "e31 = trace((R3d-Rk3hat)*(R3d-Rk3hat)')\n",
    "figure(1)\n",
    "plot(alpha3d)\n",
    "\n",
    "e31array = zeros(iteration,1);\n",
    "for i = 1:iteration\n",
    "Rk3hat = expm(alpha3d(i,1)*G1+alpha3d(i,2)*G2+alpha3d(i,3)*G3);\n",
    "e31array(i)= trace((R3d-Rk3hat)*(R3d-Rk3hat)');\n",
    "end\n"
   ]
  },
  {
   "cell_type": "code",
   "execution_count": 20,
   "metadata": {},
   "outputs": [
    {
     "name": "stderr",
     "output_type": "stream",
     "text": [
      "\u001b[1;31m関数または変数 'e3' が未定義です。\n",
      "\n",
      "\u001b[0m"
     ]
    },
    {
     "data": {
      "image/png": "[encoded data removed]",
      "text/plain": [
       "<IPython.core.display.Image object>"
      ]
     },
     "metadata": {},
     "output_type": "display_data"
    }
   ],
   "source": [
    "figure(3)\n",
    "xaxis = 1:iteration;\n",
    "plot(xaxis,e31array,'k-',xaxis,e3array,'b-',[1 iteration],[e1 e1],'r-.',[1 iteration],[e2 e2],'g--')\n",
    "ylim([0,max([e1 e2 e3])])\n",
    "legend('Lie: Gauss-Newton','Lie: Newton','Kanata(SVD)','1Linear','location','best')\n",
    "grid on\n",
    "title('Euclid Norm^2 from True Data')\n",
    "xlabel('iteration')\n"
   ]
  },
  {
   "cell_type": "code",
   "execution_count": 21,
   "metadata": {},
   "outputs": [
    {
     "name": "stdout",
     "output_type": "stream",
     "text": [
      "\n",
      "theta_liehat3d =\n",
      "\n",
      "    0.1009    0.2009    0.3003\n",
      "\n",
      "\n",
      "Rk3 =\n",
      "\n",
      "    0.9355   -0.2833    0.2112\n",
      "    0.3033    0.9504   -0.0687\n",
      "   -0.1812    0.1283    0.9750\n",
      "\n",
      "\n",
      "e3 =\n",
      "\n",
      "   3.2468e-06\n",
      "\n",
      "\n"
     ]
    },
    {
     "data": {
      "image/png": "[encoded data removed]",
      "text/plain": [
       "<IPython.core.display.Image object>"
      ]
     },
     "metadata": {},
     "output_type": "display_data"
    },
    {
     "data": {
      "image/png": "[encoded data removed]",
      "text/plain": [
       "<IPython.core.display.Image object>"
      ]
     },
     "metadata": {},
     "output_type": "display_data"
    }
   ],
   "source": [
    "%% Newton Lapson\n",
    "\n",
    "\n",
    "% init estimation\n",
    "iteration = 50;\n",
    "lambdalm=0.1;\n",
    "alpha3d = zeros(iteration,3);\n",
    "da_array=zeros(iteration,1);\n",
    "e32array=da_array;\n",
    "% init value\n",
    "alpha3d(1,:) = [0.1 0.1 0.1];\n",
    "Rliehat3d = expm(alpha3d(1,1)*G1+alpha3d(1,2)*G2+alpha3d(1,3)*G3);\n",
    "H = 2*diag([trace(I1*Rliehat3d*N),trace(I2*Rliehat3d*N),trace(I3*Rliehat3d*N)]);\n",
    "\n",
    "e32array(i) =  trace((R3d-Rliehat3d)*(R3d-Rliehat3d)');\n",
    "\n",
    "c= 0.001;\n",
    "%% Newton\n",
    "for i = 2:iteration\n",
    "% jacobian\n",
    "Rliehat3d = expm(alpha3d(i-1,1)*G1+alpha3d(i-1,2)*G2+alpha3d(i-1,3)*G3);\n",
    "%end\n",
    "N =x3d*y3d.';\n",
    "g = -2*[trace(G1*Rliehat3d*N),trace(G2*Rliehat3d*N),trace(G3*Rliehat3d*N)].';\n",
    "\n",
    "da = -(H+c*eye(3))\\g;\n",
    "da_array(i) = norm(da);\n",
    "alpha3d(i,:) = alpha3d(i-1,:)+da';\n",
    "\n",
    "e32array(i) =  trace((R3d-expm(da(1)*G1+da(2)*G2+da(3)*G3)*Rk3hat)*(R3d-expm(da(1)*G1+da(2)*G2+da(3)*G3)*Rk3hat)');\n",
    "if e32array(i)<e32array(i-1)\n",
    "c = c/10;\n",
    "else\n",
    "c = c*10;\n",
    "end\n",
    "end\n",
    "\n",
    "theta_liehat3d = alpha3d(end,:)\n",
    "\n",
    "Rk3 = expm(alpha3d(end,1)*G1+alpha3d(end,2)*G2+alpha3d(end,3)*G3)\n",
    "e3 = trace((R3d-Rk3hat)*(R3d-Rk3hat)')\n",
    "figure(1)\n",
    "plot(alpha3d)\n",
    "\n",
    "figure(2)\n",
    "plot(e32array)"
   ]
  },
  {
   "cell_type": "code",
   "execution_count": 22,
   "metadata": {},
   "outputs": [
    {
     "name": "stdout",
     "output_type": "stream",
     "text": [
      "\n"
     ]
    },
    {
     "data": {
      "image/png": "[encoded data removed]",
      "text/plain": [
       "<IPython.core.display.Image object>"
      ]
     },
     "metadata": {},
     "output_type": "display_data"
    }
   ],
   "source": [
    "figure(1)\n",
    "xaxis = 1:iteration;\n",
    "plot(xaxis,e3array,'b-',xaxis,e31array,'k-',xaxis,e32array,'c-',[1 iteration],[e1 e1],'r-.',[1 iteration],[e2 e2],'g--')\n",
    "ylim([0,max([e1 e2 e3])])\n",
    "legend('Lie: Newton','Lie: Gauss-Newton','Lie: LM','Kanata(SVD)','Linear','location','best')\n",
    "grid on\n",
    "title('Euclid Norm^2 from True Data')\n",
    "xlabel('iteration')"
   ]
  }
 ],
 "metadata": {
  "kernelspec": {
   "display_name": "Matlab",
   "language": "matlab",
   "name": "matlab"
  },
  "language_info": {
   "codemirror_mode": "octave",
   "file_extension": ".m",
   "help_links": [
    {
     "text": "MetaKernel Magics",
     "url": "https://github.com/calysto/metakernel/blob/master/metakernel/magics/README.md"
    }
   ],
   "mimetype": "text/x-octave",
   "name": "matlab",
   "version": "0.15.0"
  }
 },
 "nbformat": 4,
 "nbformat_minor": 2
}
