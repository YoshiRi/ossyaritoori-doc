{
 "cells": [
  {
   "cell_type": "markdown",
   "metadata": {},
   "source": [
    "# Python 音解析\n",
    "- 自分用：conda googleの環境でやる\n",
    "- https://jorublog.site/python-voice-analysis/\n"
   ]
  },
  {
   "cell_type": "code",
   "execution_count": 2,
   "metadata": {},
   "outputs": [],
   "source": [
    "import sys\n",
    "import scipy.io.wavfile\n",
    "import numpy as np\n",
    "import matplotlib.pyplot as plt\n",
    "import librosa"
   ]
  },
  {
   "cell_type": "code",
   "execution_count": 3,
   "metadata": {},
   "outputs": [
    {
     "name": "stderr",
     "output_type": "stream",
     "text": [
      "ffmpeg version 3.4 Copyright (c) 2000-2017 the FFmpeg developers\n",
      "  built with gcc 7.2.0 (GCC)\n",
      "  configuration: --enable-gpl --enable-version3 --enable-sdl2 --enable-bzlib --enable-fontconfig --enable-gnutls --enable-iconv --enable-libass --enable-libbluray --enable-libfreetype --enable-libmp3lame --enable-libopenjpeg --enable-libopus --enable-libshine --enable-libsnappy --enable-libsoxr --enable-libtheora --enable-libtwolame --enable-libvpx --enable-libwavpack --enable-libwebp --enable-libx264 --enable-libx265 --enable-libxml2 --enable-libzimg --enable-lzma --enable-zlib --enable-gmp --enable-libvidstab --enable-libvorbis --enable-cuda --enable-cuvid --enable-d3d11va --enable-nvenc --enable-dxva2 --enable-avisynth --enable-libmfx\n",
      "  libavutil      55. 78.100 / 55. 78.100\n",
      "  libavcodec     57.107.100 / 57.107.100\n",
      "  libavformat    57. 83.100 / 57. 83.100\n",
      "  libavdevice    57. 10.100 / 57. 10.100\n",
      "  libavfilter     6.107.100 /  6.107.100\n",
      "  libswscale      4.  8.100 /  4.  8.100\n",
      "  libswresample   2.  9.100 /  2.  9.100\n",
      "  libpostproc    54.  7.100 / 54.  7.100\n",
      "Input #0, mov,mp4,m4a,3gp,3g2,mj2, from 'videos/shift_withring.mp4':\n",
      "  Metadata:\n",
      "    major_brand     : mp42\n",
      "    minor_version   : 0\n",
      "    compatible_brands: isommp42\n",
      "    creation_time   : 2020-09-23T10:13:13.000000Z\n",
      "    location        : +35.4022+139.6082/\n",
      "    location-eng    : +35.4022+139.6082/\n",
      "    com.android.version: 10\n",
      "    com.android.capture.fps: 30.000000\n",
      "  Duration: 00:00:01.80, start: 0.000000, bitrate: 18788 kb/s\n",
      "    Stream #0:0(eng): Audio: aac (LC) (mp4a / 0x6134706D), 48000 Hz, stereo, fltp, 192 kb/s (default)\n",
      "    Metadata:\n",
      "      creation_time   : 2020-09-23T10:13:13.000000Z\n",
      "      handler_name    : SoundHandle\n",
      "    Stream #0:1(eng): Video: h264 (High) (avc1 / 0x31637661), yuvj420p(pc, smpte170m/bt470bg/smpte170m), 1920x1080, 18585 kb/s, SAR 1:1 DAR 16:9, 30.02 fps, 30.02 tbr, 90k tbn, 180k tbc (default)\n",
      "    Metadata:\n",
      "      rotate          : 180\n",
      "      creation_time   : 2020-09-23T10:13:13.000000Z\n",
      "      handler_name    : VideoHandle\n",
      "    Side data:\n",
      "      displaymatrix: rotation of -180.00 degrees\n",
      "Stream mapping:\n",
      "  Stream #0:0 -> #0:0 (aac (native) -> pcm_s16le (native))\n",
      "Press [q] to stop, [?] for help\n",
      "Output #0, wav, to 'videos/shift_withring_audio.wav':\n",
      "  Metadata:\n",
      "    major_brand     : mp42\n",
      "    minor_version   : 0\n",
      "    compatible_brands: isommp42\n",
      "    com.android.capture.fps: 30.000000\n",
      "    location        : +35.4022+139.6082/\n",
      "    location-eng    : +35.4022+139.6082/\n",
      "    com.android.version: 10\n",
      "    ISFT            : Lavf57.83.100\n",
      "    Stream #0:0(eng): Audio: pcm_s16le ([1][0][0][0] / 0x0001), 44100 Hz, stereo, s16, 1411 kb/s (default)\n",
      "    Metadata:\n",
      "      creation_time   : 2020-09-23T10:13:13.000000Z\n",
      "      handler_name    : SoundHandle\n",
      "      encoder         : Lavc57.107.100 pcm_s16le\n",
      "size=     305kB time=00:00:01.77 bitrate=1404.5kbits/s speed= 177x    \n",
      "video:0kB audio:305kB subtitle:0kB other streams:0kB global headers:0kB muxing overhead: 0.024972%\n"
     ]
    }
   ],
   "source": [
    "# ffmpegを使ってmp4からwavを作る\n",
    "# !ffmpeg -i comparison.mp4  -ac 2 -ar 44100 -vn comparison_audio.wav\n",
    "# !ffmpeg -i videos/shift_noring.mp4  -ac 2 -ar 44100 -vn videos/shift_noring_audio.wav\n",
    "#!ffmpeg -i videos/shift_withring.mp4  -ac 2 -ar 44100 -vn videos/shift_withring_audio.wav"
   ]
  },
  {
   "cell_type": "code",
   "execution_count": null,
   "metadata": {},
   "outputs": [],
   "source": []
  }
 ],
 "metadata": {
  "kernelspec": {
   "display_name": "Python 3",
   "language": "python",
   "name": "python3"
  },
  "language_info": {
   "codemirror_mode": {
    "name": "ipython",
    "version": 3
   },
   "file_extension": ".py",
   "mimetype": "text/x-python",
   "name": "python",
   "nbconvert_exporter": "python",
   "pygments_lexer": "ipython3",
   "version": "3.7.4"
  }
 },
 "nbformat": 4,
 "nbformat_minor": 4
}
