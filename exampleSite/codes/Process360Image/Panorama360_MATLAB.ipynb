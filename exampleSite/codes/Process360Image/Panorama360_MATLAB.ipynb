{
 "cells": [
  {
   "cell_type": "markdown",
   "metadata": {},
   "source": [
    "星空は24時間=1440分で360度回る。\n",
    "すなわち，1分では0.25degまわり，15秒露光を仮定すると一回の写真撮影で1/16deg回転する。すなわち5.5e-4 radである。\n",
    "これ，どの程度補正する必要あるかな？\n",
    "\n",
    "例えばThetaの画像は横5376 縦2688pixある。\n",
    "\n",
    "したがって15秒での回転というのはYaw軸（横軸）ではだいたい\n",
    "5376/360/16=0.93pix\n",
    "の移動量に当たる。ほぼないようなものか。\n",
    "\n",
    "最小だと\n",
    "2688/360/16=0.47pix\n",
    "なので一回一回の移動量の分はあまり加味しなくても良さそう。\n",
    "\n",
    "しかし，8回露光して合わせるとなると最大8pix程度動くのでそこそこ補正を書けたほうが良さそうに思えてくる。"
   ]
  },
  {
   "cell_type": "code",
   "execution_count": 2,
   "metadata": {},
   "outputs": [
    {
     "name": "stdout",
     "output_type": "stream",
     "text": [
      "\n",
      "ans =\n",
      "\n",
      "    0.2500\n",
      "\n",
      "\n",
      "ans =\n",
      "\n",
      "   5.4542e-04\n",
      "\n",
      "\n"
     ]
    }
   ],
   "source": [
    "360/1440\n",
    "1/16*pi/360"
   ]
  },
  {
   "cell_type": "markdown",
   "metadata": {},
   "source": [
    "計算した感じ，極座標の画像では綺麗に変換を記述することは難しそう…\n",
    "https://medium.com/lastmile-dynamo/360%E5%BA%A6%E3%83%91%E3%83%8E%E3%83%A9%E3%83%9E%E7%94%BB%E5%83%8F%E3%81%8B%E3%82%89%E5%B9%B3%E9%9D%A2%E7%94%BB%E5%83%8F%E3%81%B8%E3%81%AE%E5%A4%89%E6%8F%9B%E6%89%8B%E6%B3%95-7ce558bc9124"
   ]
  },
  {
   "cell_type": "code",
   "execution_count": 13,
   "metadata": {},
   "outputs": [
    {
     "name": "stdout",
     "output_type": "stream",
     "text": [
      "\n",
      "ans =\n",
      "\n",
      "    0.4667\n",
      "\n",
      "\n"
     ]
    }
   ],
   "source": [
    "5376/360/16/2"
   ]
  },
  {
   "cell_type": "code",
   "execution_count": 3,
   "metadata": {},
   "outputs": [
    {
     "name": "stderr",
     "output_type": "stream",
     "text": [
      "IOPub data rate exceeded.\n",
      "The notebook server will temporarily stop sending output\n",
      "to the client in order to avoid crashing it.\n",
      "To change this limit, set the config variable\n",
      "`--NotebookApp.iopub_data_rate_limit`.\n",
      "\n",
      "Current values:\n",
      "NotebookApp.iopub_data_rate_limit=1000000.0 (bytes/sec)\n",
      "NotebookApp.rate_limit_window=3.0 (secs)\n",
      "\n"
     ]
    }
   ],
   "source": [
    "img1 = imread('R0010164_20191130022242.jpg')\n",
    "img2 = imread('R0010165_20191130022418.jpg')\n",
    "img3 = imread('R0010166_20191130022609.jpg')"
   ]
  },
  {
   "cell_type": "code",
   "execution_count": null,
   "metadata": {},
   "outputs": [],
   "source": []
  },
  {
   "cell_type": "code",
   "execution_count": null,
   "metadata": {},
   "outputs": [],
   "source": []
  },
  {
   "cell_type": "code",
   "execution_count": null,
   "metadata": {},
   "outputs": [],
   "source": []
  }
 ],
 "metadata": {
  "kernelspec": {
   "display_name": "Matlab",
   "language": "matlab",
   "name": "matlab"
  },
  "language_info": {
   "codemirror_mode": "octave",
   "file_extension": ".m",
   "help_links": [
    {
     "text": "MetaKernel Magics",
     "url": "https://github.com/calysto/metakernel/blob/master/metakernel/magics/README.md"
    }
   ],
   "mimetype": "text/x-octave",
   "name": "matlab",
   "version": "0.15.0"
  }
 },
 "nbformat": 4,
 "nbformat_minor": 2
}
